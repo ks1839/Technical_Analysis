{
 "cells": [
  {
   "cell_type": "code",
   "execution_count": null,
   "id": "c01213e2",
   "metadata": {},
   "outputs": [],
   "source": [
    "import talib\n",
    "# Function to get the technical indicators dataframe\n",
    "def get_technical_indicators(hist_data):\n",
    "    \"\"\"\n",
    "    Assemble a dataframe of technical indicator series for an market index\n",
    "    \"\"\"\n",
    "    hist_data.dropna(inplace=True)\n",
    "    op = hist_data['Open']\n",
    "    hi = hist_data['High']\n",
    "    lo = hist_data['Low']\n",
    "    cl = hist_data['Adj Close']\n",
    "    vo = hist_data['Volume']\n",
    "    \n",
    "    df = pd.DataFrame()\n",
    "    # Define Target variable\n",
    "    df['Ret'] = (hist_data['Adj Close'].shift(-1) - hist_data['Adj Close']).rolling(5).mean()\n",
    "    \n",
    "    # Define features\n",
    "    df['HLS'] = hi - lo\n",
    "    df['COS'] = cl - op\n",
    "    df['EMA'] = talib.EMA(cl, timeperiod=20)\n",
    "    df['DEMA'] = talib.DEMA(cl, timeperiod=20)\n",
    "    df['BBANDS_upper'], df['BBANDS_middle'], df['BBANDS_lower'] = talib.BBANDS(cl, timeperiod=20, nbdevup=2, nbdevdn=2, matype=0)\n",
    "    df['MACD_macd'], df['MACD_macdsignal'], df['MACD_macdhist'] = talib.MACD(cl, fastperiod=12, slowperiod=26, signalperiod=9)\n",
    "    df['RSI'] = talib.RSI(cl, timeperiod=20)\n",
    "    df['ADX'] = talib.ADX(hi, lo, cl, timeperiod=20)\n",
    "    df['OBV'] = talib.OBV(cl, vo)\n",
    "    df['WILLR'] = talib.WILLR(hi, lo, cl, timeperiod=30)\n",
    "    \n",
    "    return df"
   ]
  },
  {
   "cell_type": "code",
   "execution_count": null,
   "id": "05bbf0af",
   "metadata": {},
   "outputs": [],
   "source": [
    "# Import Basic Libraries\n",
    "import pandas as pd\n",
    "import numpy as np\n",
    "%matplotlib inline\n",
    "import matplotlib.pyplot as plt\n",
    "import seaborn as sns\n",
    "\n",
    "import yfinance as yf\n",
    "\n",
    "from sklearn.metrics import *\n",
    "from sklearn.linear_model import Ridge\n",
    "from sklearn.pipeline import Pipeline\n",
    "from sklearn.feature_selection import SelectKBest, f_regression\n",
    "from sklearn.model_selection import GridSearchCV, TimeSeriesSplit"
   ]
  },
  {
   "cell_type": "code",
   "execution_count": null,
   "id": "e2a15021",
   "metadata": {},
   "outputs": [],
   "source": [
    "nse_data = yf.download(\"^NSEI\", start='2014-01-01', end='2023-02-28')\n",
    "nse_data.reset_index(inplace=True)\n",
    "nse_data.head()"
   ]
  },
  {
   "cell_type": "code",
   "execution_count": null,
   "id": "c1f38988",
   "metadata": {},
   "outputs": [],
   "source": [
    "split_size = 0.2\n",
    "split_index = int(nse_data.shape[0]*(1 - 0.2))"
   ]
  },
  {
   "cell_type": "code",
   "execution_count": null,
   "id": "20d0e021",
   "metadata": {},
   "outputs": [],
   "source": [
    "train_set = nse_data.drop('Date', axis=1).iloc[:split_index]\n",
    "test_set = nse_data.drop('Date', axis=1).iloc[split_index:]"
   ]
  },
  {
   "cell_type": "code",
   "execution_count": null,
   "id": "d04aa8e8",
   "metadata": {},
   "outputs": [],
   "source": [
    "from sklearn.preprocessing import MinMaxScaler\n",
    "scaler = MinMaxScaler()\n",
    "train_set = pd.DataFrame(scaler.fit_transform(train_set), columns=train_set.columns)\n",
    "test_set = pd.DataFrame(scaler.transform(test_set), columns=test_set.columns)"
   ]
  },
  {
   "cell_type": "code",
   "execution_count": null,
   "id": "1d25dcd8",
   "metadata": {},
   "outputs": [],
   "source": [
    "data = pd.concat([train_set, test_set], axis=0)\n",
    "data.set_index(nse_data.Date, inplace=True)"
   ]
  },
  {
   "cell_type": "code",
   "execution_count": null,
   "id": "24ddff49",
   "metadata": {},
   "outputs": [],
   "source": [
    "features = get_technical_indicators(data)\n",
    "features.dropna(axis=0, inplace=True)"
   ]
  },
  {
   "cell_type": "code",
   "execution_count": null,
   "id": "7dd467ff",
   "metadata": {},
   "outputs": [],
   "source": [
    "X_train = features.drop('Ret', axis=1).iloc[:split_index]\n",
    "X_test = features.drop('Ret', axis=1).iloc[split_index:]\n",
    "y_train = features['Ret'].iloc[:split_index]\n",
    "y_test = features['Ret'].iloc[split_index:]"
   ]
  },
  {
   "cell_type": "code",
   "execution_count": null,
   "id": "5ded78b8",
   "metadata": {},
   "outputs": [],
   "source": [
    "pipe = Pipeline([('feat_sel', SelectKBest(f_regression)), ('model', Ridge(alpha=0.1))])\n",
    "\n",
    "cv = TimeSeriesSplit(n_splits=5, test_size=10)\n",
    "\n",
    "parameters = {'feat_sel__k': [i for i in range(1, len(features.columns))]}\n",
    "\n",
    "clf = GridSearchCV(pipe, parameters, scoring='neg_root_mean_squared_error', cv=cv, verbose=1)\n",
    "clf.fit(X_train, y_train)"
   ]
  },
  {
   "cell_type": "code",
   "execution_count": null,
   "id": "95cd3fe6",
   "metadata": {},
   "outputs": [],
   "source": [
    "clf.best_params_"
   ]
  },
  {
   "cell_type": "code",
   "execution_count": null,
   "id": "4c638e82",
   "metadata": {},
   "outputs": [],
   "source": [
    "feat_sel = SelectKBest(f_regression, k=clf.best_params_['feat_sel__k'])\n",
    "X_train_rev = feat_sel.fit_transform(X_train, y_train)\n",
    "X_test_rev = feat_sel.transform(X_test)\n",
    "feat_sel.get_feature_names_out()"
   ]
  },
  {
   "cell_type": "code",
   "execution_count": null,
   "id": "cfb06c71",
   "metadata": {},
   "outputs": [],
   "source": [
    "model = Ridge(alpha=0.1)\n",
    "model.fit(X_train_rev, y_train)"
   ]
  },
  {
   "cell_type": "code",
   "execution_count": null,
   "id": "bf1ff711",
   "metadata": {},
   "outputs": [],
   "source": [
    "train_pred = model.predict(X_train_rev)\n",
    "test_pred = model.predict(X_test_rev)"
   ]
  },
  {
   "cell_type": "code",
   "execution_count": null,
   "id": "da9cb12d",
   "metadata": {},
   "outputs": [],
   "source": [
    "train_result = pd.DataFrame(index=y_train.index)\n",
    "train_result['train_pred'] = train_pred\n",
    "train_result['y_train'] = y_train\n",
    "train_result.head(500).plot()"
   ]
  },
  {
   "cell_type": "code",
   "execution_count": null,
   "id": "54e2776c",
   "metadata": {},
   "outputs": [],
   "source": [
    "score = {'train_r2': 0, 'train_mse': 0}\n",
    "score['train_r2'] = r2_score(y_train, train_pred)\n",
    "score['train_mse'] = np.sqrt(mean_squared_error(y_train, train_pred))\n",
    "score"
   ]
  },
  {
   "cell_type": "code",
   "execution_count": null,
   "id": "ffd39da9",
   "metadata": {},
   "outputs": [],
   "source": [
    "test_result = pd.DataFrame(index=y_test.index)\n",
    "test_result['test_pred'] = test_pred\n",
    "test_result['y_test'] = y_test\n",
    "test_result.plot()"
   ]
  },
  {
   "cell_type": "code",
   "execution_count": null,
   "id": "a9d43177",
   "metadata": {},
   "outputs": [],
   "source": [
    "score = {'test_r2': 0, 'test_mse': 0}\n",
    "score['test_r2'] = r2_score(y_test, test_pred)\n",
    "score['test_mse'] = np.sqrt(mean_squared_error(y_test, test_pred))\n",
    "score"
   ]
  },
  {
   "cell_type": "code",
   "execution_count": null,
   "id": "cb54a273",
   "metadata": {},
   "outputs": [],
   "source": [
    "vis = pd.concat([train_result, test_result], axis=0)\n",
    "vis.plot(figsize=(10,6))"
   ]
  },
  {
   "cell_type": "code",
   "execution_count": null,
   "id": "91c222bf",
   "metadata": {},
   "outputs": [],
   "source": []
  }
 ],
 "metadata": {
  "kernelspec": {
   "display_name": "Python 3 (ipykernel)",
   "language": "python",
   "name": "python3"
  },
  "language_info": {
   "codemirror_mode": {
    "name": "ipython",
    "version": 3
   },
   "file_extension": ".py",
   "mimetype": "text/x-python",
   "name": "python",
   "nbconvert_exporter": "python",
   "pygments_lexer": "ipython3",
   "version": "3.9.13"
  }
 },
 "nbformat": 4,
 "nbformat_minor": 5
}
